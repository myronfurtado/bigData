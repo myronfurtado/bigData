{
 "cells": [
  {
   "cell_type": "code",
   "execution_count": 1491,
   "id": "82897b0d",
   "metadata": {},
   "outputs": [],
   "source": [
    "#cmp3749m_myronfurtado_19703402_1 "
   ]
  },
  {
   "cell_type": "code",
   "execution_count": 1492,
   "id": "f69cddb1",
   "metadata": {},
   "outputs": [],
   "source": [
    "#install Packages if needed(uncomment them run them, if needed)\n",
    "#!pip install findspark\n",
    "#!pip install pyspark\n",
    "\n",
    "#!pip install jupyter\n",
    "#!pip install pip\n",
    "#!pip install pandas\n",
    "#!pip install numpy\n",
    "#!pip install matplotlib\n",
    "#!pip install matplotlib-inline\n",
    "#!pip install seaborn"
   ]
  },
  {
   "cell_type": "code",
   "execution_count": 1493,
   "id": "7732dc51",
   "metadata": {},
   "outputs": [],
   "source": [
    "#importing the libraries i will need later\n",
    "from pyspark.sql.types import StructType,StructField,StringType,IntegerType\n",
    "from pyspark.sql.functions import col\n",
    "import pandas as pd\n",
    "import seaborn as sns\n",
    "import numpy as np\n",
    "import matplotlib.pyplot as plt\n",
    "# schema for use with our own created dataframes later.. we could have loaded it from a CSV? Yes, just do inferSchema=True\n",
    "#schema = StructType([StructField(\"text\",StringType(),True),StructField(\"label\", IntegerType(), True)])"
   ]
  },
  {
   "cell_type": "code",
   "execution_count": 1494,
   "id": "ea6682a6",
   "metadata": {},
   "outputs": [
    {
     "name": "stdout",
     "output_type": "stream",
     "text": [
      "+-----+\n",
      "|Hello|\n",
      "+-----+\n",
      "|Spark|\n",
      "+-----+\n",
      "\n"
     ]
    }
   ],
   "source": [
    "#INITALISE SPARK\n",
    "import findspark\n",
    "findspark.init()\n",
    "\n",
    "import pyspark\n",
    "from pyspark.sql import SparkSession\n",
    "spark = SparkSession.builder.getOrCreate()\n",
    "df = spark.sql(\"select 'Spark' as Hello\")\n",
    "#df = spark.sql(\"select 'spark', 'myron' as hello\")\n",
    "df.show()"
   ]
  },
  {
   "cell_type": "code",
   "execution_count": 1495,
   "id": "8bade9ed",
   "metadata": {},
   "outputs": [
    {
     "name": "stdout",
     "output_type": "stream",
     "text": [
      "+------+--------------------+--------------------+---------------------+--------------------+------------------+------------------+------------------+------------------+------------------+------------------+------------------+------------------+\n",
      "|Status|Power_range_sensor_1|Power_range_sensor_2|Power_range_sensor_3 |Power_range_sensor_4|Pressure _sensor_1|Pressure _sensor_2|Pressure _sensor_3|Pressure _sensor_4|Vibration_sensor_1|Vibration_sensor_2|Vibration_sensor_3|Vibration_sensor_4|\n",
      "+------+--------------------+--------------------+---------------------+--------------------+------------------+------------------+------------------+------------------+------------------+------------------+------------------+------------------+\n",
      "|Normal|              4.5044|              0.7443|                 6.34|              1.9052|           29.5315|            0.8647|            2.2044|             6.048|           14.4659|            21.648|           15.3429|            1.2186|\n",
      "|Normal|              4.4284|              0.9073|               5.6433|              1.6232|           27.5032|            1.4704|            1.9929|            5.9856|           20.8356|            0.0646|           14.8813|            7.3483|\n",
      "|Normal|              4.5291|              1.0199|                6.113|              1.0565|           26.4271|            1.9247|             1.942|            6.7162|            5.3358|           11.0779|           25.0914|            9.2408|\n",
      "|Normal|              5.1727|              1.0007|               7.8589|              0.2765|           25.1576|             2.609|            2.9234|            6.7485|            1.9017|            1.8463|            28.664|            4.0157|\n",
      "|Normal|              5.2258|              0.6125|               7.9504|              0.1547|           24.0765|            3.2113|            4.4563|            5.8411|            0.5077|              9.37|           34.8122|           13.4966|\n",
      "|Normal|              4.8834|              0.5786|               5.6021|              0.5942|           21.0365|            2.6275|            4.3996|            5.3487|            3.6465|            9.3793|           36.2431|            11.124|\n",
      "|Normal|              5.7422|              0.8862|               5.1013|              0.9402|           15.5171|              2.92|            2.7061|            5.0366|            9.1854|            9.1116|           27.3162|            2.8526|\n",
      "|Normal|              6.5076|              0.5438|                7.153|              0.6711|           11.1481|            4.2967|            3.5731|            4.6123|           14.7705|            8.0038|           24.9714|            2.1417|\n",
      "|Normal|               5.625|              0.0403|               7.7087|              0.3214|            8.7975|            2.3293|             4.788|             5.203|            4.3388|            2.4187|           20.9187|            2.1233|\n",
      "|Normal|              4.9942|              0.4092|               6.2604|              0.6931|             6.189|            0.1537|            2.4934|            5.6573|            9.8132|           13.3581|           23.5036|            0.7478|\n",
      "+------+--------------------+--------------------+---------------------+--------------------+------------------+------------------+------------------+------------------+------------------+------------------+------------------+------------------+\n",
      "only showing top 10 rows\n",
      "\n"
     ]
    }
   ],
   "source": [
    "#loading the dataset into a Pyspark dataframe using Python\n",
    "\n",
    "df = spark.read.csv(\"nuclear_plants_small_dataset.csv\", inferSchema=True, header=True)\n",
    "\n",
    "#n=number of rows to display, truncate= no of characters\n",
    "df.show(n=10, truncate=50)"
   ]
  },
  {
   "cell_type": "code",
   "execution_count": 1496,
   "id": "a5296127",
   "metadata": {},
   "outputs": [
    {
     "name": "stdout",
     "output_type": "stream",
     "text": [
      "root\n",
      " |-- Status: string (nullable = true)\n",
      " |-- Power_range_sensor_1: double (nullable = true)\n",
      " |-- Power_range_sensor_2: double (nullable = true)\n",
      " |-- Power_range_sensor_3 : double (nullable = true)\n",
      " |-- Power_range_sensor_4: double (nullable = true)\n",
      " |-- Pressure _sensor_1: double (nullable = true)\n",
      " |-- Pressure _sensor_2: double (nullable = true)\n",
      " |-- Pressure _sensor_3: double (nullable = true)\n",
      " |-- Pressure _sensor_4: double (nullable = true)\n",
      " |-- Vibration_sensor_1: double (nullable = true)\n",
      " |-- Vibration_sensor_2: double (nullable = true)\n",
      " |-- Vibration_sensor_3: double (nullable = true)\n",
      " |-- Vibration_sensor_4: double (nullable = true)\n",
      "\n"
     ]
    }
   ],
   "source": [
    "#checking Schema and datatypes\n",
    "df.printSchema()"
   ]
  },
  {
   "cell_type": "code",
   "execution_count": 1497,
   "id": "8ccff840",
   "metadata": {},
   "outputs": [
    {
     "name": "stdout",
     "output_type": "stream",
     "text": [
      "row count:   996\n",
      "\n",
      "\n",
      "996 13\n"
     ]
    }
   ],
   "source": [
    "#check the number of rows in df\n",
    "print(\"row count:  \", df.count())\n",
    "print(\"\\n\")\n",
    "\n",
    "#get dataframe size and shape, as Spark df has no .shape() attribute\n",
    "print(df.count(), len(df.columns))"
   ]
  },
  {
   "cell_type": "code",
   "execution_count": 1498,
   "id": "d74f3485",
   "metadata": {},
   "outputs": [],
   "source": [
    "#read the file using pandas(for reference)\n",
    "import pandas as pd\n",
    "\n",
    "#data = pd.read_csv(\"nuclear_plants_small_dataset.csv\", sep=\",\")\n",
    "#data\n",
    "\n",
    "#count the number of rows\n",
    "#data.count()\n",
    "\n",
    "#to check the shape of pandas dataframe\n",
    "#data.shape"
   ]
  },
  {
   "cell_type": "code",
   "execution_count": 1499,
   "id": "2a78d210",
   "metadata": {},
   "outputs": [],
   "source": [
    "#Task 1 - Checking for missing values and dealing with them, also explain in report\n",
    "\n",
    "#find the count of Null and NaN row values\n",
    "\n",
    "\n",
    "#find rows with any missing values(Null,NaN, None, \" \")\n"
   ]
  },
  {
   "cell_type": "code",
   "execution_count": 1500,
   "id": "90db4893",
   "metadata": {
    "scrolled": true
   },
   "outputs": [
    {
     "data": {
      "image/png": "[encoded data removed]",
      "text/plain": [
       "<Figure size 432x288 with 1 Axes>"
      ]
     },
     "metadata": {},
     "output_type": "display_data"
    }
   ],
   "source": [
    "#task 2\n",
    "#convert spark df to pandas df\n",
    "pandas_df = df.toPandas()\n",
    "#print(pandas_df)\n",
    "\n",
    "#Selects the only the rows where the status is \"Normal\" and saves them to a variable dfNormal\n",
    "dfNormal = pandas_df.loc[pandas_df['Status'] == \"Normal\"]\n",
    "#print(dfNormal)\n",
    "#Selects the only the rows where the status is \"Abnormal\" and saves them to a variable dfAbnormal\n",
    "dfAbnormal = pandas_df.loc[pandas_df['Status'] == \"Abnormal\"]\n",
    "#print(dfAbnormal)\n",
    "\n",
    "#dropping Status Column\n",
    "normalDropDF = dfNormal.drop(['Status'], axis=1)\n",
    "abnormalDropDF = dfAbnormal.drop(['Status'], axis=1)\n",
    "#print(abnormalDropDF)\n",
    "\n",
    "#box plots\n",
    "\n",
    "ax= sns.boxplot(y= dfNormal[\"Power_range_sensor_1\"], x=dfNormal[\"Status\"])\n",
    "plt.show()"
   ]
  },
  {
   "cell_type": "code",
   "execution_count": 1501,
   "id": "738542fa",
   "metadata": {},
   "outputs": [],
   "source": [
    "normalCol1 = dfNormal.filter(['Power_range_sensor_1'])\n",
    "normalCol = normalCol1.rename(columns={'Power_range_sensor_1': 'Normal'})\n",
    "#print(normalCol)\n",
    "abnormalCol1= dfAbnormal.filter(['Power_range_sensor_1'])\n",
    "abnormalCol = abnormalCol1.rename(columns={'Power_range_sensor_1': 'Abnormal'})\n",
    "#print(abnormalCol)\n",
    "\n",
    "#plotDF = pd.DataFrame()\n",
    "plotDF = pd.concat([normalCol, abnormalCol], axis=1)\n",
    "#print(plotDF)"
   ]
  },
  {
   "cell_type": "code",
   "execution_count": 1502,
   "id": "3aef410f",
   "metadata": {},
   "outputs": [
    {
     "data": {
      "image/png": "[encoded data removed]",
      "text/plain": [
       "<Figure size 432x288 with 1 Axes>"
      ]
     },
     "metadata": {},
     "output_type": "display_data"
    },
    {
     "data": {
      "image/png": "[encoded data removed]",
      "text/plain": [
       "<Figure size 432x288 with 1 Axes>"
      ]
     },
     "metadata": {},
     "output_type": "display_data"
    }
   ],
   "source": [
    "#box plots\n",
    "sns.set_theme(style=\"whitegrid\")\n",
    "plotDF.boxplot(column=['Normal', 'Abnormal'], grid=False)\n",
    "\n",
    "plt.show()\n",
    "\n",
    "#box plots\n",
    "sns.set_theme(style=\"whitegrid\")\n",
    "plotDF1.boxplot(column=['Normal', 'Abnormal'])\n",
    "plotDF2.boxplot(column=['Normal', 'Abnormal'])\n",
    "\n",
    "plt.show()"
   ]
  },
  {
   "cell_type": "code",
   "execution_count": 1503,
   "id": "04674b9a",
   "metadata": {
    "scrolled": true
   },
   "outputs": [
    {
     "name": "stdout",
     "output_type": "stream",
     "text": [
      "                       Power_range_sensor_1  Power_range_sensor_2  \\\n",
      "Power_range_sensor_1               1.000000              0.095235   \n",
      "Power_range_sensor_2               0.095235              1.000000   \n",
      "Power_range_sensor_3               0.229943              0.693818   \n",
      "Power_range_sensor_4               0.499795              0.228438   \n",
      "Pressure _sensor_1                 0.047805             -0.222160   \n",
      "Pressure _sensor_2                 0.652081              0.112438   \n",
      "Pressure _sensor_3                 0.199811              0.583086   \n",
      "Pressure _sensor_4                 0.406382              0.136380   \n",
      "Vibration_sensor_1                -0.152247             -0.119142   \n",
      "Vibration_sensor_2                -0.003684              0.011013   \n",
      "Vibration_sensor_3                 0.106583              0.243242   \n",
      "Vibration_sensor_4                 0.014177              0.058244   \n",
      "\n",
      "                       Power_range_sensor_3   Power_range_sensor_4  \\\n",
      "Power_range_sensor_1                0.229943              0.499795   \n",
      "Power_range_sensor_2                0.693818              0.228438   \n",
      "Power_range_sensor_3                1.000000              0.083362   \n",
      "Power_range_sensor_4                0.083362              1.000000   \n",
      "Pressure _sensor_1                 -0.255865              0.150635   \n",
      "Pressure _sensor_2                  0.166549              0.567705   \n",
      "Pressure _sensor_3                  0.362688             -0.070547   \n",
      "Pressure _sensor_4                  0.062479              0.823637   \n",
      "Vibration_sensor_1                 -0.249057             -0.114117   \n",
      "Vibration_sensor_2                 -0.038320              0.043383   \n",
      "Vibration_sensor_3                  0.215811              0.330499   \n",
      "Vibration_sensor_4                 -0.023962             -0.018193   \n",
      "\n",
      "                       Pressure _sensor_1  Pressure _sensor_2  \\\n",
      "Power_range_sensor_1             0.047805            0.652081   \n",
      "Power_range_sensor_2            -0.222160            0.112438   \n",
      "Power_range_sensor_3            -0.255865            0.166549   \n",
      "Power_range_sensor_4             0.150635            0.567705   \n",
      "Pressure _sensor_1               1.000000            0.116859   \n",
      "Pressure _sensor_2               0.116859            1.000000   \n",
      "Pressure _sensor_3              -0.118713            0.091341   \n",
      "Pressure _sensor_4               0.131136            0.571403   \n",
      "Vibration_sensor_1               0.101438           -0.099950   \n",
      "Vibration_sensor_2              -0.035196           -0.027698   \n",
      "Vibration_sensor_3              -0.084575            0.011015   \n",
      "Vibration_sensor_4              -0.125128            0.001189   \n",
      "\n",
      "                       Pressure _sensor_3  Pressure _sensor_4  \\\n",
      "Power_range_sensor_1             0.199811            0.406382   \n",
      "Power_range_sensor_2             0.583086            0.136380   \n",
      "Power_range_sensor_3             0.362688            0.062479   \n",
      "Power_range_sensor_4            -0.070547            0.823637   \n",
      "Pressure _sensor_1              -0.118713            0.131136   \n",
      "Pressure _sensor_2               0.091341            0.571403   \n",
      "Pressure _sensor_3               1.000000            0.001591   \n",
      "Pressure _sensor_4               0.001591            1.000000   \n",
      "Vibration_sensor_1               0.016497           -0.112696   \n",
      "Vibration_sensor_2               0.029766            0.010560   \n",
      "Vibration_sensor_3               0.019993            0.191842   \n",
      "Vibration_sensor_4               0.105642            0.047000   \n",
      "\n",
      "                       Vibration_sensor_1  Vibration_sensor_2  \\\n",
      "Power_range_sensor_1            -0.152247           -0.003684   \n",
      "Power_range_sensor_2            -0.119142            0.011013   \n",
      "Power_range_sensor_3            -0.249057           -0.038320   \n",
      "Power_range_sensor_4            -0.114117            0.043383   \n",
      "Pressure _sensor_1               0.101438           -0.035196   \n",
      "Pressure _sensor_2              -0.099950           -0.027698   \n",
      "Pressure _sensor_3               0.016497            0.029766   \n",
      "Pressure _sensor_4              -0.112696            0.010560   \n",
      "Vibration_sensor_1               1.000000           -0.045857   \n",
      "Vibration_sensor_2              -0.045857            1.000000   \n",
      "Vibration_sensor_3              -0.076277            0.103704   \n",
      "Vibration_sensor_4               0.026480           -0.023290   \n",
      "\n",
      "                       Vibration_sensor_3  Vibration_sensor_4  \n",
      "Power_range_sensor_1             0.106583            0.014177  \n",
      "Power_range_sensor_2             0.243242            0.058244  \n",
      "Power_range_sensor_3             0.215811           -0.023962  \n",
      "Power_range_sensor_4             0.330499           -0.018193  \n",
      "Pressure _sensor_1              -0.084575           -0.125128  \n",
      "Pressure _sensor_2               0.011015            0.001189  \n",
      "Pressure _sensor_3               0.019993            0.105642  \n",
      "Pressure _sensor_4               0.191842            0.047000  \n",
      "Vibration_sensor_1              -0.076277            0.026480  \n",
      "Vibration_sensor_2               0.103704           -0.023290  \n",
      "Vibration_sensor_3               1.000000           -0.015536  \n",
      "Vibration_sensor_4              -0.015536            1.000000  \n"
     ]
    }
   ],
   "source": [
    "correlationMatrix = pandas_df.corr(method='pearson')\n",
    "#pd.set_option('display.max_rows', None, 'display.max_columns', None) #this prints the full pandas matrix but it looks unprofessional\n",
    "print(correlationMatrix)"
   ]
  },
  {
   "cell_type": "code",
   "execution_count": null,
   "id": "ebe6c605",
   "metadata": {},
   "outputs": [],
   "source": []
  }
 ],
 "metadata": {
  "kernelspec": {
   "display_name": "Python 3 (ipykernel)",
   "language": "python",
   "name": "python3"
  },
  "language_info": {
   "codemirror_mode": {
    "name": "ipython",
    "version": 3
   },
   "file_extension": ".py",
   "mimetype": "text/x-python",
   "name": "python",
   "nbconvert_exporter": "python",
   "pygments_lexer": "ipython3",
   "version": "3.9.7"
  }
 },
 "nbformat": 4,
 "nbformat_minor": 5
}
