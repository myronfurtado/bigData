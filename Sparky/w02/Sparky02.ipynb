{
 "cells": [
  {
   "cell_type": "code",
   "execution_count": 1,
   "id": "da5543a6",
   "metadata": {},
   "outputs": [],
   "source": [
    "#install Packages if needed(uncomment them run them, if needed)\n",
    "#!pip install findspark\n",
    "#!pip install pyspark\n",
    "\n",
    "#!pip install jupyter\n",
    "#!pip install pip\n",
    "#!pip install pandas\n",
    "#!pip install numpy\n",
    "#!pip install matplotlib\n",
    "#!pip install matplotlib-inline\n",
    "#!pip install seaborn"
   ]
  },
  {
   "cell_type": "code",
   "execution_count": 2,
   "id": "eb3a5a0d",
   "metadata": {},
   "outputs": [],
   "source": [
    "#To import, enable, initalise spark into jupyter\n",
    "import findspark\n",
    "findspark.init()"
   ]
  },
  {
   "cell_type": "code",
   "execution_count": 3,
   "id": "cd5c7d8c",
   "metadata": {},
   "outputs": [
    {
     "name": "stdout",
     "output_type": "stream",
     "text": [
      "+-----+\n",
      "|hello|\n",
      "+-----+\n",
      "|spark|\n",
      "+-----+\n",
      "\n"
     ]
    }
   ],
   "source": [
    "#df stands for dataframe\n",
    "#import the pyspark library\n",
    "import pyspark\n",
    "#import the SparkSession class\n",
    "from pyspark.sql import SparkSession\n",
    "spark = SparkSession.builder.getOrCreate()\n",
    "df = spark.sql(\"select 'spark' as hello\")\n",
    "#execute the SQL by calling the “show” action on the DataFrame\n",
    "df.show()"
   ]
  },
  {
   "cell_type": "code",
   "execution_count": 4,
   "id": "112d6480",
   "metadata": {},
   "outputs": [
    {
     "name": "stdout",
     "output_type": "stream",
     "text": [
      "+------+------+------+---+-------+-------+\n",
      "|   _c0|   _c1|   _c2|_c3|    _c4|    _c5|\n",
      "+------+------+------+---+-------+-------+\n",
      "|Number|  City|Gender|Age| Income|Illness|\n",
      "|     1|Dallas|  Male| 41|40367.0|     No|\n",
      "|     2|Dallas|  Male| 54|45084.0|     No|\n",
      "|     3|Dallas|  Male| 42|52483.0|     No|\n",
      "|     4|Dallas|  Male| 40|40941.0|     No|\n",
      "|     5|Dallas|  Male| 46|50289.0|     No|\n",
      "|     6|Dallas|Female| 36|50786.0|     No|\n",
      "|     7|Dallas|Female| 32|33155.0|     No|\n",
      "|     8|Dallas|  Male| 39|30914.0|     No|\n",
      "|     9|Dallas|  Male| 51|68667.0|     No|\n",
      "|    10|Dallas|Female| 30|50082.0|     No|\n",
      "|    11|Dallas|Female| 48|41524.0|    Yes|\n",
      "|    12|Dallas|  Male| 47|54777.0|     No|\n",
      "|    13|Dallas|  Male| 46|62749.0|     No|\n",
      "|    14|Dallas|Female| 42|50894.0|     No|\n",
      "|    15|Dallas|Female| 61|38429.0|     No|\n",
      "|    16|Dallas|  Male| 43|34074.0|     No|\n",
      "|    17|Dallas|  Male| 27|50398.0|     No|\n",
      "|    18|Dallas|  Male| 38|46373.0|    Yes|\n",
      "|    19|Dallas|  Male| 47|51137.0|     No|\n",
      "+------+------+------+---+-------+-------+\n",
      "only showing top 20 rows\n",
      "\n"
     ]
    }
   ],
   "source": [
    "#This line creates the dataframe from the csv file\n",
    "df = spark.read.csv(\"toy_dataset.csv\")\n",
    "#shows the data frame(df) of the dataset\n",
    "df.show()"
   ]
  },
  {
   "cell_type": "code",
   "execution_count": 5,
   "id": "fa5e570c",
   "metadata": {},
   "outputs": [
    {
     "name": "stdout",
     "output_type": "stream",
     "text": [
      "root\n",
      " |-- _c0: string (nullable = true)\n",
      " |-- _c1: string (nullable = true)\n",
      " |-- _c2: string (nullable = true)\n",
      " |-- _c3: string (nullable = true)\n",
      " |-- _c4: string (nullable = true)\n",
      " |-- _c5: string (nullable = true)\n",
      "\n"
     ]
    }
   ],
   "source": [
    "#We can see the schema (structure) of the DF with this function\n",
    "df.printSchema()\n",
    "#the below results are wrong so we need to correct it"
   ]
  },
  {
   "cell_type": "code",
   "execution_count": 6,
   "id": "c54bf7bf",
   "metadata": {},
   "outputs": [
    {
     "name": "stdout",
     "output_type": "stream",
     "text": [
      "root\n",
      " |-- Number: integer (nullable = true)\n",
      " |-- City: string (nullable = true)\n",
      " |-- Gender: string (nullable = true)\n",
      " |-- Age: integer (nullable = true)\n",
      " |-- Income: double (nullable = true)\n",
      " |-- Illness: string (nullable = true)\n",
      "\n"
     ]
    }
   ],
   "source": [
    "df = spark.read.csv(\"toy_dataset.csv\", inferSchema=True, header=True)\n",
    "df.printSchema()"
   ]
  },
  {
   "cell_type": "code",
   "execution_count": 7,
   "id": "0b11fffd",
   "metadata": {},
   "outputs": [
    {
     "data": {
      "text/plain": [
       "150000"
      ]
     },
     "execution_count": 7,
     "metadata": {},
     "output_type": "execute_result"
    }
   ],
   "source": [
    "#to return the total number of rows in the dataset\n",
    "df.count()"
   ]
  },
  {
   "cell_type": "code",
   "execution_count": 8,
   "id": "f4ea04bd",
   "metadata": {},
   "outputs": [],
   "source": [
    "#Counts the number of rows where the value is Male in the dataset using .where()\n",
    "df.where(df.Gender == \"Male\").count()\n",
    "\n",
    "#save the filtered result into a variable to use for calculations\n",
    "totalentries =df.count()"
   ]
  },
  {
   "cell_type": "code",
   "execution_count": 9,
   "id": "f28826c8",
   "metadata": {},
   "outputs": [
    {
     "name": "stdout",
     "output_type": "stream",
     "text": [
      "+------+------+------+---+-------+-------+\n",
      "|Number|  City|Gender|Age| Income|Illness|\n",
      "+------+------+------+---+-------+-------+\n",
      "|    12|Dallas|  Male| 47|54777.0|     No|\n",
      "|    34|Dallas|  Male| 27|56645.0|     No|\n",
      "|   150|Dallas|Female| 48|42926.0|     No|\n",
      "|   457|Dallas|  Male| 42|61088.0|     No|\n",
      "|   631|Dallas|Female| 39|56619.0|     No|\n",
      "|   708|Dallas|Female| 57|17477.0|     No|\n",
      "|   964|Dallas|Female| 42|46840.0|     No|\n",
      "|   992|Dallas|Female| 52|46952.0|    Yes|\n",
      "|  1053|Dallas|Female| 26|48973.0|     No|\n",
      "|  1082|Dallas|Female| 54|33992.0|     No|\n",
      "|  1158|Dallas|  Male| 58|38383.0|     No|\n",
      "|  1511|Dallas|  Male| 63|57909.0|     No|\n",
      "|  1517|Dallas|  Male| 31|52079.0|     No|\n",
      "|  1528|Dallas|  Male| 38|45190.0|     No|\n",
      "|  1551|Dallas|  Male| 49|44323.0|     No|\n",
      "|  1587|Dallas|  Male| 40|44838.0|     No|\n",
      "|  1663|Dallas|Female| 25|49124.0|     No|\n",
      "|  1750|Dallas|  Male| 48|39598.0|     No|\n",
      "|  1770|Dallas|  Male| 45|49505.0|    Yes|\n",
      "|  1855|Dallas|Female| 51|35120.0|     No|\n",
      "+------+------+------+---+-------+-------+\n",
      "only showing top 20 rows\n",
      "\n"
     ]
    }
   ],
   "source": [
    "#df.sample to select random rows every time.df.show() will show the same\n",
    "\n",
    "#df2 is new data frame different from df(original dataframe)\n",
    "df2 = df.sample(0.01)\n",
    "df2.show()"
   ]
  },
  {
   "cell_type": "code",
   "execution_count": 10,
   "id": "e2115ec7",
   "metadata": {},
   "outputs": [
    {
     "name": "stdout",
     "output_type": "stream",
     "text": [
      "+---------------+-----+\n",
      "|           City|count|\n",
      "+---------------+-----+\n",
      "|         Dallas|19707|\n",
      "|    Los Angeles|32173|\n",
      "|      San Diego| 4881|\n",
      "|         Austin|12292|\n",
      "|  New York City|50307|\n",
      "|Washington D.C.| 8120|\n",
      "|  Mountain View|14219|\n",
      "|         Boston| 8301|\n",
      "+---------------+-----+\n",
      "\n"
     ]
    }
   ],
   "source": [
    "#To get the count of a group of values, we can use the “groupBy” transform\n",
    "\n",
    "df.groupBy(\"City\").count().show()"
   ]
  },
  {
   "cell_type": "code",
   "execution_count": 11,
   "id": "989d1d45",
   "metadata": {},
   "outputs": [
    {
     "name": "stdout",
     "output_type": "stream",
     "text": [
      "8\n"
     ]
    }
   ],
   "source": [
    "#to get the total number of cities (count), replace .show()(there are 8 cities names in the database)\n",
    "#use .groupBy().count().count() to get the number of unique vlaues in a column\n",
    "df.groupBy(\"City\").count().count()\n",
    "\n",
    "#OR\n",
    "#to store the above result in a variable do\n",
    "numcities = df.groupBy(\"City\").count().count()\n",
    "print(numcities)"
   ]
  },
  {
   "cell_type": "code",
   "execution_count": 12,
   "id": "29df656f",
   "metadata": {},
   "outputs": [
    {
     "name": "stdout",
     "output_type": "stream",
     "text": [
      "+-------+------+\n",
      "|Illness| count|\n",
      "+-------+------+\n",
      "|     No|137861|\n",
      "|    Yes| 12139|\n",
      "+-------+------+\n",
      "\n"
     ]
    }
   ],
   "source": [
    "#Number of people that are ill and not ill\n",
    "\n",
    "#illNum = df.where(df.Illness == \"Yes\").count()\n",
    "#print(illNum , \"people are ill\")\n",
    "\n",
    "#illNot = df.where(df.Illness == \"No\").count()\n",
    "#print(illNot , \"people are not ill\")\n",
    "\n",
    "#OR preffered method(from slides)\n",
    "df2 = df.groupBy(\"Illness\").count()\n",
    "df2.show()"
   ]
  },
  {
   "cell_type": "code",
   "execution_count": 13,
   "id": "f8340e3e",
   "metadata": {},
   "outputs": [
    {
     "name": "stdout",
     "output_type": "stream",
     "text": [
      "<class 'int'>\n",
      "137861\n"
     ]
    }
   ],
   "source": [
    "#getting the values onto the machine by using collect\n",
    "rows = df2.select(\"count\").collect()\n",
    "\n",
    "#the No-row above will be 0 in the list and Yes-row will be 1\n",
    "#below will print the count valie of the row selected\n",
    "rows[0]\n",
    "\n",
    "#use type function to see the data type of the row\n",
    "#print(type(rows[0]))\n",
    "\n",
    "#slide 70\n",
    "value = rows[0][0]\n",
    "print(type(value))\n",
    "print(value)\n"
   ]
  },
  {
   "cell_type": "code",
   "execution_count": 14,
   "id": "a08c9f54",
   "metadata": {},
   "outputs": [
    {
     "name": "stdout",
     "output_type": "stream",
     "text": [
      "+------+-----+\n",
      "|Gender|count|\n",
      "+------+-----+\n",
      "|Female|66200|\n",
      "|  Male|83800|\n",
      "+------+-----+\n",
      "\n",
      "44 % female : 56 % male\n"
     ]
    }
   ],
   "source": [
    "#exercise slide 74\n",
    "df3 = df.groupBy(\"Gender\").count()\n",
    "df3.show()\n",
    "\n",
    "import math\n",
    "genrows = df3.select(\"count\").collect()\n",
    "females = genrows[0][0]\n",
    "males =  genrows[1][0]\n",
    "totalPop = females + males\n",
    "femalePer = round((females/totalPop)*100)\n",
    "malePer = round((males/totalPop)*100)\n",
    "print('{0:0d} % female : {1:0d} % male'.format(femalePer,malePer))"
   ]
  },
  {
   "cell_type": "code",
   "execution_count": 15,
   "id": "7bcca278",
   "metadata": {},
   "outputs": [
    {
     "name": "stdout",
     "output_type": "stream",
     "text": [
      "+------+-----+\n",
      "|Gender|count|\n",
      "+------+-----+\n",
      "|Female| 5331|\n",
      "|  Male| 6808|\n",
      "+------+-----+\n",
      "\n"
     ]
    }
   ],
   "source": [
    "#transforming data before using it using .where and .groupBy functions togeter\n",
    "df2 = df.where(df.Illness == \"Yes\").groupBy(df.Gender).count()\n",
    "df2.show()"
   ]
  },
  {
   "cell_type": "code",
   "execution_count": 16,
   "id": "de0501fa",
   "metadata": {},
   "outputs": [
    {
     "name": "stdout",
     "output_type": "stream",
     "text": [
      "+---------------+-----+\n",
      "|           City|count|\n",
      "+---------------+-----+\n",
      "|         Dallas| 1613|\n",
      "|    Los Angeles| 2568|\n",
      "|      San Diego|  394|\n",
      "|         Austin| 1011|\n",
      "|  New York City| 4021|\n",
      "|Washington D.C.|  668|\n",
      "|  Mountain View| 1178|\n",
      "|         Boston|  686|\n",
      "+---------------+-----+\n",
      "\n",
      "+---------------+-----+\n",
      "|           City|count|\n",
      "+---------------+-----+\n",
      "|  New York City| 4021|\n",
      "|    Los Angeles| 2568|\n",
      "|         Dallas| 1613|\n",
      "|  Mountain View| 1178|\n",
      "|         Austin| 1011|\n",
      "|         Boston|  686|\n",
      "|Washington D.C.|  668|\n",
      "|      San Diego|  394|\n",
      "+---------------+-----+\n",
      "\n"
     ]
    },
    {
     "data": {
      "text/plain": [
       "[Row(City='New York City', count=4021)]"
      ]
     },
     "execution_count": 16,
     "metadata": {},
     "output_type": "execute_result"
    }
   ],
   "source": [
    "#WHICH CITY HAS THE MOST ILL PEOPLE LIVING THERE? this is unsorted data\n",
    "df2 = df.where(df.Illness==\"Yes\").groupBy(df.City).count()\n",
    "df2.show()\n",
    "\n",
    "#Now we add sorting to the final output\n",
    "\n",
    "#import more pyspark sql functions for sorting\n",
    "from pyspark.sql.functions import col, asc, desc\n",
    "\n",
    "df2=df.where(df.Illness==\"Yes\").groupBy(df.City).count().sort(col(\"count\").desc())\n",
    "df2.show()\n",
    "#prints city with most population\n",
    "df2.take(1)"
   ]
  },
  {
   "cell_type": "code",
   "execution_count": 17,
   "id": "61dde535",
   "metadata": {},
   "outputs": [
    {
     "name": "stdout",
     "output_type": "stream",
     "text": [
      "+----------------+\n",
      "|     avg(Income)|\n",
      "+----------------+\n",
      "|91277.8753604086|\n",
      "+----------------+\n",
      "\n",
      "+-------------------+\n",
      "|Mean Healthy Income|\n",
      "+-------------------+\n",
      "|  91250.59017416093|\n",
      "+-------------------+\n",
      "\n"
     ]
    }
   ],
   "source": [
    "#maths insights\n",
    "#import\n",
    "from pyspark.sql.functions import mean\n",
    "#av imcome of ill people\n",
    "df.filter(df.Illness==\"Yes\").select(mean(\"Income\")).show()\n",
    "#use Illness==No to find income of healthy people, also rename the colum\n",
    "df.filter(df.Illness==\"No\").select(mean(\"Income\")).withColumnRenamed(\"avg(Income)\",\"Mean Healthy Income\").show()"
   ]
  },
  {
   "cell_type": "code",
   "execution_count": 18,
   "id": "e8f1f9b8",
   "metadata": {},
   "outputs": [
    {
     "name": "stdout",
     "output_type": "stream",
     "text": [
      "-RECORD 0--------------------------------\n",
      " Mean Unwell Income  | 91277.8753604086  \n",
      " Mean Healthy Income | 91250.59017416093 \n",
      "\n"
     ]
    }
   ],
   "source": [
    "from pyspark.sql.functions import mean\n",
    "averageill = df.filter(df.Illness==\"Yes\").select(mean(\"Income\")).withColumnRenamed(\"avg(Income)\",\"Mean Unwell Income\")\n",
    "averagehealthy = df.filter(df.Illness==\"No\").select(mean(\"Income\")).withColumnRenamed(\"avg(Income)\",\"Mean Healthy Income\")\n",
    "averageill.join(averagehealthy).show(vertical=True)"
   ]
  },
  {
   "cell_type": "code",
   "execution_count": 19,
   "id": "f95a2b23",
   "metadata": {},
   "outputs": [
    {
     "name": "stdout",
     "output_type": "stream",
     "text": [
      "+---+\n",
      "|Age|\n",
      "+---+\n",
      "| 48|\n",
      "| 38|\n",
      "| 27|\n",
      "| 45|\n",
      "+---+\n",
      "only showing top 4 rows\n",
      "\n",
      "+-------+------------------+\n",
      "|summary|               Age|\n",
      "+-------+------------------+\n",
      "|  count|             12139|\n",
      "|   mean| 45.02084191449048|\n",
      "| stddev|11.554129904969162|\n",
      "|    min|                25|\n",
      "|    25%|                35|\n",
      "|    50%|                45|\n",
      "|    75%|                55|\n",
      "|    max|                65|\n",
      "+-------+------------------+\n",
      "\n"
     ]
    }
   ],
   "source": [
    "#WHAT IS THE MEAN AGE FOR ILL PEOPLE\n",
    "#to only see top 4 rown, n=4\n",
    "df.filter(df.Illness==\"Yes\").select(\"Age\").show(n=4)\n",
    "#using summary transform, get a gist\n",
    "df.filter(df.Illness==\"Yes\").select(\"Age\").summary().show()"
   ]
  },
  {
   "cell_type": "code",
   "execution_count": 20,
   "id": "669d8130",
   "metadata": {},
   "outputs": [
    {
     "name": "stdout",
     "output_type": "stream",
     "text": [
      "+-------------+---+\n",
      "|         City|Age|\n",
      "+-------------+---+\n",
      "|Mountain View| 65|\n",
      "+-------------+---+\n",
      "only showing top 1 row\n",
      "\n"
     ]
    }
   ],
   "source": [
    "#wher does the oldest non ill person live, slide 115\n",
    "#df.where(df.Illness == \"No\").select(\"Age\", \"City\").show()\n",
    "\n",
    "from pyspark.sql.functions import col, asc, desc\n",
    "df2 = df.where(df.Illness == \"No\").sort(col(\"Age\").desc())\n",
    "\n",
    "#imprt mac to select the maximum ahe value from the df\n",
    "from pyspark.sql.functions import max\n",
    "#df2 = df.select(max(\"Age\")).show()\n",
    "\n",
    "#i used this instead of max cuz it shows the city they belong to, not possible with max\n",
    "df2.select(\"City\", \"Age\").show(1)"
   ]
  },
  {
   "cell_type": "code",
   "execution_count": 21,
   "id": "9111bad0",
   "metadata": {},
   "outputs": [
    {
     "data": {
      "text/plain": [
       "array([[<AxesSubplot:title={'center':'Income'}>]], dtype=object)"
      ]
     },
     "execution_count": 21,
     "metadata": {},
     "output_type": "execute_result"
    },
    {
     "data": {
      "image/png": "[encoded data removed]",
      "text/plain": [
       "<Figure size 648x648 with 1 Axes>"
      ]
     },
     "metadata": {
      "needs_background": "light"
     },
     "output_type": "display_data"
    },
    {
     "data": {
      "image/png": "[encoded data removed]",
      "text/plain": [
       "<Figure size 432x288 with 1 Axes>"
      ]
     },
     "metadata": {
      "needs_background": "light"
     },
     "output_type": "display_data"
    }
   ],
   "source": [
    "#Plotting a histogram using matplotlib\n",
    "\n",
    "import numpy as np                       #only to check the median vlaue\n",
    "import matplotlib.pyplot as plt\n",
    "\n",
    "#sending the pyspark dataframe(df2) to pandas dataframe(pandasDF) needed for matplotlib\n",
    "pandasDF = df2.toPandas()\n",
    "#pandasDF\n",
    "\n",
    "#method 1 (using ax.hist)\n",
    "fig, ax = plt.subplots(figsize=(9,9))\n",
    "ax.hist(pandasDF.Income, bins=10, edgecolor='black')\n",
    "ax.set_ylabel('No of people/records')\n",
    "ax.set_xlabel('Income')\n",
    "\n",
    "#method 2 {using dataframe.hist('colum', bins=int, edgecolor='black')}\n",
    "pandasDF.hist('Income', bins=10, edgecolor='black')\n",
    "\n",
    "#method 3(does not work)\n",
    "#plt.hist('Income', bins=10, edgecolor='black');"
   ]
  },
  {
   "cell_type": "code",
   "execution_count": 22,
   "id": "144da273",
   "metadata": {
    "scrolled": true
   },
   "outputs": [
    {
     "data": {
      "text/plain": [
       "array([[<AxesSubplot:title={'center':'Income'}>]], dtype=object)"
      ]
     },
     "execution_count": 22,
     "metadata": {},
     "output_type": "execute_result"
    },
    {
     "data": {
      "image/png": "[encoded data removed]",
      "text/plain": [
       "<Figure size 648x648 with 1 Axes>"
      ]
     },
     "metadata": {
      "needs_background": "light"
     },
     "output_type": "display_data"
    },
    {
     "data": {
      "image/png": "[encoded data removed]",
      "text/plain": [
       "<Figure size 432x288 with 1 Axes>"
      ]
     },
     "metadata": {
      "needs_background": "light"
     },
     "output_type": "display_data"
    }
   ],
   "source": [
    "import numpy as np                      \n",
    "import matplotlib.pyplot as plt\n",
    "\n",
    "#sending the pyspark dataframe(df2) to pandas dataframe(pandasDF) needed for matplotlib\n",
    "pandasDF = df2.toPandas()\n",
    "\n",
    "#method 1 (using ax.hist)\n",
    "fig, ax = plt.subplots(figsize=(9,9))\n",
    "ax.hist(pandasDF.Income, bins=100, edgecolor='black')\n",
    "ax.set_ylabel('No of people/records')\n",
    "ax.set_xlabel('Income')\n",
    "\n",
    "#method 2 {using dataframe.hist('colum', bins=int, edgecolor='black')}\n",
    "pandasDF.hist('Income', bins=100, edgecolor='black')"
   ]
  },
  {
   "cell_type": "code",
   "execution_count": null,
   "id": "b047adb6",
   "metadata": {},
   "outputs": [],
   "source": [
    "#The %matplotlib inline code will give you an error if you’re not using the Jupyter Notebook. Just comment it out and add the line plt.show() right after the point where we start making plots."
   ]
  }
 ],
 "metadata": {
  "kernelspec": {
   "display_name": "Python 3 (ipykernel)",
   "language": "python",
   "name": "python3"
  },
  "language_info": {
   "codemirror_mode": {
    "name": "ipython",
    "version": 3
   },
   "file_extension": ".py",
   "mimetype": "text/x-python",
   "name": "python",
   "nbconvert_exporter": "python",
   "pygments_lexer": "ipython3",
   "version": "3.9.7"
  }
 },
 "nbformat": 4,
 "nbformat_minor": 5
}
