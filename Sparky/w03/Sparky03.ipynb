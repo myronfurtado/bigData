{
 "cells": [
  {
   "cell_type": "code",
   "execution_count": 24,
   "id": "dff018e3",
   "metadata": {},
   "outputs": [],
   "source": [
    "#When running the code to get correct results use Run all every time instead of running every cell individually"
   ]
  },
  {
   "cell_type": "code",
   "execution_count": 25,
   "id": "23678e6c",
   "metadata": {},
   "outputs": [],
   "source": [
    "#install Packages if needed(uncomment them run them, if needed)\n",
    "#packages can also be installed in Jupyter, command: !pip install packageName\n",
    "\n",
    "#!pip install findspark\n",
    "#!pip install pyspark\n",
    "\n",
    "#!pip install jupyter\n",
    "#!pip install pip\n",
    "#!pip install pandas\n",
    "#!pip install numpy\n",
    "#!pip install matplotlib\n",
    "#!pip install matplotlib-inline\n",
    "#!pip install seaborn"
   ]
  },
  {
   "cell_type": "code",
   "execution_count": 26,
   "id": "e6689423",
   "metadata": {},
   "outputs": [
    {
     "name": "stdout",
     "output_type": "stream",
     "text": [
      "+-----+\n",
      "|Hello|\n",
      "+-----+\n",
      "|Spark|\n",
      "+-----+\n",
      "\n"
     ]
    }
   ],
   "source": [
    "#To import, enable, initalise spark into jupyter\n",
    "#!pip install findspark\n",
    "#!pip install pyspark\n",
    "\n",
    "import findspark\n",
    "findspark.init()\n",
    "\n",
    "import pyspark\n",
    "from pyspark.sql import SparkSession\n",
    "spark = SparkSession.builder.getOrCreate()\n",
    "df = spark.sql(\"select 'Spark' as Hello\")\n",
    "#df = spark.sql(\"select 'spark', 'myron' as hello\")\n",
    "df.show()\n"
   ]
  },
  {
   "cell_type": "code",
   "execution_count": 27,
   "id": "ecae6505",
   "metadata": {},
   "outputs": [
    {
     "name": "stdout",
     "output_type": "stream",
     "text": [
      "+------+--------------+---------------------------+------------+-----------------------+----------+-------------+-------------+\n",
      "|gender|race/ethnicity|parental level of education|       lunch|test preparation course|math score|reading score|writing score|\n",
      "+------+--------------+---------------------------+------------+-----------------------+----------+-------------+-------------+\n",
      "|female|       group B|          bachelor's degree|    standard|                   none|        72|           72|           74|\n",
      "|female|       group C|               some college|    standard|              completed|        69|           90|           88|\n",
      "|female|       group B|            master's degree|    standard|                   none|        90|           95|           93|\n",
      "|  male|       group A|         associate's degree|free/reduced|                   none|        47|           57|           44|\n",
      "|  male|       group C|               some college|    standard|                   none|        76|           78|           75|\n",
      "|female|       group B|         associate's degree|    standard|                   none|        71|           83|           78|\n",
      "|female|       group B|               some college|    standard|              completed|        88|           95|           92|\n",
      "|  male|       group B|               some college|free/reduced|                   none|        40|           43|           39|\n",
      "|  male|       group D|                high school|free/reduced|              completed|        64|           64|           67|\n",
      "|female|       group B|                high school|free/reduced|                   none|        38|           60|           50|\n",
      "|  male|       group C|         associate's degree|    standard|                   none|        58|           54|           52|\n",
      "|  male|       group D|         associate's degree|    standard|                   null|        40|           52|           43|\n",
      "|female|       group B|                high school|    standard|                   none|        65|           81|           73|\n",
      "|  male|       group A|               some college|    standard|              completed|        78|           72|           70|\n",
      "|female|       group A|            master's degree|    standard|                   none|        50|           53|           58|\n",
      "|female|       group C|           some high school|    standard|                   none|      null|           75|           78|\n",
      "|  male|       group C|                high school|    standard|                   none|        88|           89|           86|\n",
      "|female|       group B|           some high school|free/reduced|                   none|        18|           32|           28|\n",
      "|  male|       group C|            master's degree|free/reduced|              completed|        46|           42|           46|\n",
      "|female|       group C|         associate's degree|free/reduced|                   none|        54|           58|           61|\n",
      "+------+--------------+---------------------------+------------+-----------------------+----------+-------------+-------------+\n",
      "only showing top 20 rows\n",
      "\n"
     ]
    }
   ],
   "source": [
    "df = spark.read.csv(\"BrokenDataset.csv\", inferSchema = True, header = True)\n",
    "df.show()\n",
    "#df.printSchema()"
   ]
  },
  {
   "cell_type": "code",
   "execution_count": 28,
   "id": "fe1bd887",
   "metadata": {},
   "outputs": [
    {
     "name": "stdout",
     "output_type": "stream",
     "text": [
      "+------+--------------+---------------------------+-----+-----------------------+----------+-------------+-------------+\n",
      "|gender|race/ethnicity|parental level of education|lunch|test preparation course|math score|reading score|writing score|\n",
      "+------+--------------+---------------------------+-----+-----------------------+----------+-------------+-------------+\n",
      "|    15|             0|                          9|    8|                     11|         1|            6|            1|\n",
      "+------+--------------+---------------------------+-----+-----------------------+----------+-------------+-------------+\n",
      "\n"
     ]
    }
   ],
   "source": [
    "#counting the number of null and NaN fileds, does not include NULL, missing vlaues and string values\n",
    "\n",
    "import numpy as np\n",
    "from pyspark.sql.functions import col, isnan, when, count\n",
    "\n",
    "df.select([count(when(isnan(c) | col(c).isNull(), c)).alias(c) for c in df.columns]).show()"
   ]
  },
  {
   "cell_type": "code",
   "execution_count": 29,
   "id": "b6990cc7",
   "metadata": {},
   "outputs": [
    {
     "name": "stdout",
     "output_type": "stream",
     "text": [
      "+------+--------------+---------------------------+-----+-----------------------+----------+-------------+-------------+\n",
      "|gender|race/ethnicity|parental level of education|lunch|test preparation course|math score|reading score|writing score|\n",
      "+------+--------------+---------------------------+-----+-----------------------+----------+-------------+-------------+\n",
      "|    15|             0|                          9|    8|                     11|         1|            6|            1|\n",
      "+------+--------------+---------------------------+-----+-----------------------+----------+-------------+-------------+\n",
      "\n"
     ]
    }
   ],
   "source": [
    "# Find count for empty, None, Null, Nan with string literals.\n",
    "import numpy as np\n",
    "from pyspark.sql.functions import col, isnan, when, count\n",
    "\n",
    "df2 = df.select([count(when(col(c).contains('None') | \\\n",
    "                            col(c).contains('NULL') | \\\n",
    "                            (col(c) == '' ) | \\\n",
    "                            col(c).isNull() | \\\n",
    "                            isnan(c), c \n",
    "                           )).alias(c)\n",
    "                    for c in df.columns])\n",
    "df2.show()"
   ]
  },
  {
   "cell_type": "code",
   "execution_count": 30,
   "id": "2350f5de",
   "metadata": {},
   "outputs": [
    {
     "name": "stdout",
     "output_type": "stream",
     "text": [
      "rows difference after dropping the null values 40 \n",
      "\n"
     ]
    }
   ],
   "source": [
    "#Fixing missing & broken values. Only use one of the 3 methods below\n",
    "\n",
    "#Dropping rows/records where the vlaues are null - using df.dropna()\n",
    "rowCountBefore = df.count()\n",
    "df = df.dropna()\n",
    "rowCountAfter = df.count()\n",
    "\n",
    "#print(\"Rows before dropping null\" ,rowCountBefore , \"Rows after dropping null \" ,rowCountAfter)\n",
    "print(\"rows difference after dropping the null values {} \\n\".format(rowCountBefore-rowCountAfter))"
   ]
  },
  {
   "cell_type": "code",
   "execution_count": 31,
   "id": "107641ef",
   "metadata": {},
   "outputs": [
    {
     "name": "stdout",
     "output_type": "stream",
     "text": [
      "rows difference after dropping the null values 0 \n",
      "\n"
     ]
    }
   ],
   "source": [
    "#Drops rows if any values in the colums 'test preparation course and 'maths score' are null\n",
    "rowCountBefore = df.count()\n",
    "df = df.dropna(how = 'any' ,subset= ['test preparation course', 'math score'])\n",
    "rowCountAfter = df.count()\n",
    "print(\"rows difference after dropping the null values {} \\n\".format(rowCountBefore-rowCountAfter))\n",
    "#print('Totals number of rows left after dropping rows with null above ', df.count())\n",
    "\n",
    "#https://pandas.pydata.org/docs/reference/api/pandas.DataFrame.dropna.html"
   ]
  },
  {
   "cell_type": "code",
   "execution_count": 32,
   "id": "80cb4359",
   "metadata": {},
   "outputs": [
    {
     "name": "stdout",
     "output_type": "stream",
     "text": [
      "rows difference after dropping the null values 0 \n",
      "\n"
     ]
    }
   ],
   "source": [
    "#Drops rows where at least 2 colums in it have null value\n",
    "rowCountBefore = df.count()\n",
    "df = df.dropna(thresh = 2)\n",
    "rowCountAfter = df.count()\n",
    "print(\"rows difference after dropping the null values {} \\n\".format(rowCountBefore-rowCountAfter))\n"
   ]
  },
  {
   "cell_type": "code",
   "execution_count": 33,
   "id": "bb5f2d94",
   "metadata": {},
   "outputs": [
    {
     "name": "stdout",
     "output_type": "stream",
     "text": [
      "+------+--------------+---------------------------+-----+-----------------------+----------+-------------+-------------+\n",
      "|gender|race/ethnicity|parental level of education|lunch|test preparation course|math score|reading score|writing score|\n",
      "+------+--------------+---------------------------+-----+-----------------------+----------+-------------+-------------+\n",
      "+------+--------------+---------------------------+-----+-----------------------+----------+-------------+-------------+\n",
      "\n",
      "rows difference after dropping the duplicate values 0 \n",
      "\n"
     ]
    }
   ],
   "source": [
    "#Removing rows with Duplicate values\n",
    "#checking if the dataset has any duplicate values using groupBy() and count() functions\n",
    "df1 = df.groupBy('gender', 'race/ethnicity', 'parental level of education', 'lunch', 'test preparation course', 'math score', 'reading score', 'writing score').count().filter(\"count > 1\")\n",
    "df1.drop('count').show()\n",
    "\n",
    "#Dropping all records/rows that have duplicate vlaues\n",
    "rowCountBefore = df.count()\n",
    "df = df.dropDuplicates()\n",
    "rowCountAfter = df.count()\n",
    "print(\"rows difference after dropping the duplicate values {} \\n\".format(rowCountBefore-rowCountAfter))\n",
    "\n",
    "#this data set has no duplicate records as show by the results below\n",
    "#https://pandas.pydata.org/docs/reference/api/pandas.DataFrame.drop_duplicates.html\n",
    "#https://www.datasciencemadesimple.com/get-duplicate-rows-in-pyspark/"
   ]
  },
  {
   "cell_type": "code",
   "execution_count": 34,
   "id": "8983f713",
   "metadata": {},
   "outputs": [
    {
     "name": "stdout",
     "output_type": "stream",
     "text": [
      "rows difference after dropping the duplicate values 4 \n",
      "\n"
     ]
    }
   ],
   "source": [
    "#Deleting records with Duplicates using colums i require(I decided to use score since they have 100 unique values each)\n",
    "rowCountBefore = df.count()\n",
    "df = df.dropDuplicates(['race/ethnicity', 'math score', 'reading score', 'writing score'])\n",
    "rowCountAfter = df.count()\n",
    "print(\"rows difference after dropping the duplicate values {} \\n\".format(rowCountBefore-rowCountAfter))\n",
    "#df.count() #counts the amount of rows left after dropping"
   ]
  },
  {
   "cell_type": "code",
   "execution_count": 35,
   "id": "52d96c8d",
   "metadata": {},
   "outputs": [
    {
     "name": "stdout",
     "output_type": "stream",
     "text": [
      "+---------------------------+------------+-----------------------+----------+-------------+-------------+\n",
      "|parental level of education|       lunch|test preparation course|math score|reading score|writing score|\n",
      "+---------------------------+------------+-----------------------+----------+-------------+-------------+\n",
      "|           some high school|    standard|                   none|        62|           64|           66|\n",
      "|                high school|    standard|              completed|        56|           68|           74|\n",
      "|         associate's degree|    standard|                   none|        85|           92|           85|\n",
      "|           some high school|free/reduced|                   none|        27|           34|           32|\n",
      "|           some high school|    standard|              completed|        62|           66|           68|\n",
      "|               some college|    standard|                   none|        87|           85|           93|\n",
      "|            master's degree|free/reduced|                   none|        73|           74|           72|\n",
      "|          bachelor's degree|free/reduced|                   none|        73|           79|           84|\n",
      "|               some college|    standard|                   none|        80|           90|           89|\n",
      "|           some high school|free/reduced|                   none|        74|           74|           72|\n",
      "|          bachelor's degree|    standard|                   none|        59|           72|           70|\n",
      "|           some high school|    standard|                   none|        57|           67|           72|\n",
      "|               some college|free/reduced|                   none|        62|           57|           62|\n",
      "|                high school|    standard|                   none|        61|           72|           70|\n",
      "|         associate's degree|    standard|                   none|        62|           65|           58|\n",
      "|          bachelor's degree|free/reduced|              completed|        61|           70|           76|\n",
      "|               some college|free/reduced|                   none|        69|           66|           60|\n",
      "|         associate's degree|    standard|                   none|        80|           75|           77|\n",
      "|                high school|free/reduced|              completed|        40|           46|           50|\n",
      "|               some college|    standard|              completed|        87|           89|           94|\n",
      "+---------------------------+------------+-----------------------+----------+-------------+-------------+\n",
      "only showing top 20 rows\n",
      "\n"
     ]
    }
   ],
   "source": [
    "#Dropping Columns to reduce memory footprint\n",
    "#dropping columns by using df.drop('*column_name')\n",
    "df3 = df.drop('gender')\n",
    "\n",
    "#OR\n",
    "columns_todrop = ['gender', 'race/ethnicity']\n",
    "df3 = df.drop(*columns_todrop)\n",
    "\n",
    "\n",
    "df3.show()"
   ]
  },
  {
   "cell_type": "code",
   "execution_count": 36,
   "id": "23f06a45",
   "metadata": {
    "scrolled": true
   },
   "outputs": [
    {
     "name": "stdout",
     "output_type": "stream",
     "text": [
      "+-----------+-----+\n",
      "|     gender|count|\n",
      "+-----------+-----+\n",
      "|     female|  496|\n",
      "|wibble here|    1|\n",
      "|       male|  459|\n",
      "+-----------+-----+\n",
      "\n",
      "OR\n",
      "+------+--------------+---------------------------+------------+-----------------------+-----+\n",
      "|gender|race/ethnicity|parental level of education|       lunch|test preparation course|count|\n",
      "+------+--------------+---------------------------+------------+-----------------------+-----+\n",
      "|female|       group B|         associate's degree|free/reduced|                   none|    5|\n",
      "|  male|       group C|             wonkyvaluehere|free/reduced|                   none|    3|\n",
      "|  male|       group B|          bachelor's degree|    standard|                   none|    3|\n",
      "|female|       group D|                wibble here|free/reduced|                   none|    1|\n",
      "|  male|       group A|                high school|    standard|              completed|    1|\n",
      "|  male|       group A|                high school|free/reduced|              completed|    1|\n",
      "|  male|       group E|         associate's degree|    standard|              completed|    7|\n",
      "|  male|       group C|            master's degree|free/reduced|                   none|    3|\n",
      "|female|       group D|                wibble here|    standard|                   none|    1|\n",
      "|female|       group E|          bachelor's degree|free/reduced|                   none|    1|\n",
      "|  male|       group E|               some college|free/reduced|              completed|    2|\n",
      "|female|       group C|          bachelor's degree|    standard|                   none|    7|\n",
      "|  male|       group C|           some high school|free/reduced|                   none|    3|\n",
      "|  male|       group B|          bachelor's degree|free/reduced|                   none|    5|\n",
      "|female|       group D|               some college|free/reduced|                   none|    9|\n",
      "|female|       group D|         associate's degree|free/reduced|              completed|    5|\n",
      "|  male|       group E|               some college|    standard|                   none|   11|\n",
      "|female|       group D|           some high school|    standard|              completed|    6|\n",
      "|  male|       group B|               some college|free/reduced|              completed|    3|\n",
      "|  male|       group C|                high school|    standard|              completed|    7|\n",
      "+------+--------------+---------------------------+------------+-----------------------+-----+\n",
      "only showing top 20 rows\n",
      "\n"
     ]
    }
   ],
   "source": [
    "#Calculating the number of categories of string based values in the dataset(slide 57)\n",
    "df.groupBy('gender').count().show()  #for counting values types total for the gender column\n",
    "print(\"OR\")\n",
    "#counting for the entire dataset\n",
    "df.groupBy('gender', 'race/ethnicity', 'parental level of education', 'lunch', 'test preparation course').count().show()\n"
   ]
  },
  {
   "cell_type": "code",
   "execution_count": 37,
   "id": "3ac3cf65",
   "metadata": {
    "scrolled": true
   },
   "outputs": [
    {
     "name": "stdout",
     "output_type": "stream",
     "text": [
      "+------+--------------+---------------------------+------------+-----------------------+----------+-------------+-------------+\n",
      "|gender|race/ethnicity|parental level of education|       lunch|test preparation course|math score|reading score|writing score|\n",
      "+------+--------------+---------------------------+------------+-----------------------+----------+-------------+-------------+\n",
      "|female|       group D|                high school|    standard|              completed|        56|           68|           74|\n",
      "|  male|       group D|           some high school|    standard|              completed|        62|           66|           68|\n",
      "|  male|       group D|          bachelor's degree|free/reduced|              completed|        61|           70|           76|\n",
      "|  male|       group C|                high school|free/reduced|              completed|        40|           46|           50|\n",
      "|female|       group C|               some college|    standard|              completed|        87|           89|           94|\n",
      "|female|       group D|                high school|    standard|              completed|        88|           99|          100|\n",
      "|female|       group A|                high school|free/reduced|              completed|        53|           50|           60|\n",
      "|  male|       group B|           some high school|    standard|              completed|        64|           53|           57|\n",
      "|  male|       group E|         associate's degree|free/reduced|              completed|        46|           43|           44|\n",
      "|  male|       group A|               some college|free/reduced|              completed|        50|           47|           54|\n",
      "|  male|       group A|         associate's degree|    standard|              completed|        97|           92|           86|\n",
      "|  male|       group C|                high school|    standard|              completed|        75|           69|           68|\n",
      "|female|       group E|         associate's degree|    standard|              completed|        82|           85|           86|\n",
      "|  male|       group C|           some high school|free/reduced|              completed|        59|           69|           65|\n",
      "|female|       group D|            master's degree|free/reduced|              completed|        47|           58|           67|\n",
      "|female|       group D|               some college|    standard|              completed|        85|           86|           98|\n",
      "|  male|       group A|           some high school|free/reduced|              completed|        61|           62|           61|\n",
      "|female|       group C|               some college|    standard|              completed|        64|           82|           77|\n",
      "|female|       group C|         associate's degree|free/reduced|              completed|        68|           67|           69|\n",
      "|female|       group C|           some high school|    standard|              completed|        70|           82|           76|\n",
      "+------+--------------+---------------------------+------------+-----------------------+----------+-------------+-------------+\n",
      "only showing top 20 rows\n",
      "\n",
      "+------+--------------+---------------------------+------------+-----------------------+----------+-------------+-------------+\n",
      "|gender|race/ethnicity|parental level of education|       lunch|test preparation course|math score|reading score|writing score|\n",
      "+------+--------------+---------------------------+------------+-----------------------+----------+-------------+-------------+\n",
      "|female|       group D|                high school|    standard|              completed|        56|           68|           74|\n",
      "|  male|       group D|           some high school|    standard|              completed|        62|           66|           68|\n",
      "|  male|       group D|          bachelor's degree|free/reduced|              completed|        61|           70|           76|\n",
      "|  male|       group C|                high school|free/reduced|              completed|        40|           46|           50|\n",
      "|female|       group C|               some college|    standard|              completed|        87|           89|           94|\n",
      "|female|       group D|                high school|    standard|              completed|        88|           99|          100|\n",
      "|female|       group A|                high school|free/reduced|              completed|        53|           50|           60|\n",
      "|  male|       group B|           some high school|    standard|              completed|        64|           53|           57|\n",
      "|  male|       group E|         associate's degree|free/reduced|              completed|        46|           43|           44|\n",
      "|  male|       group A|               some college|free/reduced|              completed|        50|           47|           54|\n",
      "|  male|       group A|         associate's degree|    standard|              completed|        97|           92|           86|\n",
      "|  male|       group C|                high school|    standard|              completed|        75|           69|           68|\n",
      "|female|       group E|         associate's degree|    standard|              completed|        82|           85|           86|\n",
      "|  male|       group C|           some high school|free/reduced|              completed|        59|           69|           65|\n",
      "|female|       group D|            master's degree|free/reduced|              completed|        47|           58|           67|\n",
      "|female|       group D|               some college|    standard|              completed|        85|           86|           98|\n",
      "|  male|       group A|           some high school|free/reduced|              completed|        61|           62|           61|\n",
      "|female|       group C|               some college|    standard|              completed|        64|           82|           77|\n",
      "|female|       group C|         associate's degree|free/reduced|              completed|        68|           67|           69|\n",
      "|female|       group C|           some high school|    standard|              completed|        70|           82|           76|\n",
      "+------+--------------+---------------------------+------------+-----------------------+----------+-------------+-------------+\n",
      "only showing top 20 rows\n",
      "\n"
     ]
    }
   ],
   "source": [
    "#Removing null, or non categorically significant values (slide 58)\n",
    "\n",
    "#format dataframe_name.where/filter(dataframe_name['column_name']=='value_field').show()\n",
    "df4 = df.where(df['test preparation course'] == \"completed\").show()\n",
    "#OR\n",
    "# removes rows with the values 'none'\n",
    "df4 = df.filter(df['test preparation course'] == \"completed\").show()"
   ]
  },
  {
   "cell_type": "code",
   "execution_count": 38,
   "id": "2bab9030",
   "metadata": {},
   "outputs": [
    {
     "name": "stdout",
     "output_type": "stream",
     "text": [
      "+------------+----------+\n",
      "|       lunch|lunchIndex|\n",
      "+------------+----------+\n",
      "|    standard|       0.0|\n",
      "|    standard|       0.0|\n",
      "|    standard|       0.0|\n",
      "|free/reduced|       1.0|\n",
      "|    standard|       0.0|\n",
      "|    standard|       0.0|\n",
      "|free/reduced|       1.0|\n",
      "|free/reduced|       1.0|\n",
      "|    standard|       0.0|\n",
      "|free/reduced|       1.0|\n",
      "|    standard|       0.0|\n",
      "|    standard|       0.0|\n",
      "|free/reduced|       1.0|\n",
      "|    standard|       0.0|\n",
      "|    standard|       0.0|\n",
      "|free/reduced|       1.0|\n",
      "|free/reduced|       1.0|\n",
      "|    standard|       0.0|\n",
      "|free/reduced|       1.0|\n",
      "|    standard|       0.0|\n",
      "+------------+----------+\n",
      "only showing top 20 rows\n",
      "\n"
     ]
    }
   ],
   "source": [
    "#Using stringindexer\n",
    "\n",
    "from pyspark.ml.feature import StringIndexer\n",
    "indexer = StringIndexer(inputCol=\"lunch\", outputCol=\"lunchIndex\")\n",
    "indexed = indexer.fit(df).transform(df)\n",
    "indexed.select(\"lunch\", \"lunchIndex\").show()\n",
    "#indexed.show()\n",
    "\n",
    "#https://spark.apache.org/docs/latest/ml-features.html#stringindexer"
   ]
  },
  {
   "cell_type": "code",
   "execution_count": 39,
   "id": "4563cf01",
   "metadata": {},
   "outputs": [
    {
     "name": "stdout",
     "output_type": "stream",
     "text": [
      "root\n",
      " |-- gender: string (nullable = true)\n",
      " |-- ethnicity: string (nullable = true)\n",
      " |-- parental_level_of_education: string (nullable = true)\n",
      " |-- lunch: string (nullable = true)\n",
      " |-- test_preparation_course: string (nullable = true)\n",
      " |-- math score: integer (nullable = true)\n",
      " |-- reading score: integer (nullable = true)\n",
      " |-- writing score: integer (nullable = true)\n",
      "\n",
      "root\n",
      " |-- gender: string (nullable = true)\n",
      " |-- ethnicity: string (nullable = true)\n",
      " |-- parental level of education: string (nullable = true)\n",
      " |-- lunch: string (nullable = true)\n",
      " |-- test preparation course: string (nullable = true)\n",
      " |-- math score: integer (nullable = true)\n",
      " |-- reading score: integer (nullable = true)\n",
      " |-- writing score: integer (nullable = true)\n",
      "\n"
     ]
    }
   ],
   "source": [
    "#Rename multiple ro single column names using (.withColumnRenamed)\n",
    "#df4 = df.withColumnRenamed(\"race/ethnicity\", \"ethnicity\")\n",
    "df5 = df.withColumnRenamed(\"race/ethnicity\", \"ethnicity\").withColumnRenamed(\"parental level of education\", \"parental_level_of_education\").withColumnRenamed(\"test preparation course\", \"test_preparation_course\")\n",
    "df5.printSchema()\n",
    "\n",
    "#OR\n",
    "\n",
    "#using ecprs for single column\n",
    "exprs = [col(column).alias(column.replace('race/ethnicity','ethnicity')) for column in df.columns]\n",
    "df.select(*exprs).printSchema()"
   ]
  },
  {
   "cell_type": "code",
   "execution_count": 40,
   "id": "e7f44763",
   "metadata": {},
   "outputs": [
    {
     "name": "stdout",
     "output_type": "stream",
     "text": [
      "+------+---------+---------------------------+------------+-----------------------+----------+-------------+-------------+------------+\n",
      "|gender|ethnicity|parental_level_of_education|lunch       |test_preparation_course|math score|reading score|writing score|group_letter|\n",
      "+------+---------+---------------------------+------------+-----------------------+----------+-------------+-------------+------------+\n",
      "|female|group B  |some high school           |standard    |none                   |62        |64           |66           |B           |\n",
      "|female|group D  |high school                |standard    |completed              |56        |68           |74           |D           |\n",
      "|female|group E  |associate's degree         |standard    |none                   |85        |92           |85           |E           |\n",
      "|female|group D  |some high school           |free/reduced|none                   |27        |34           |32           |D           |\n",
      "|male  |group D  |some high school           |standard    |completed              |62        |66           |68           |D           |\n",
      "|female|group E  |some college               |standard    |none                   |87        |85           |93           |E           |\n",
      "|male  |group A  |master's degree            |free/reduced|none                   |73        |74           |72           |A           |\n",
      "|female|group D  |bachelor's degree          |free/reduced|none                   |73        |79           |84           |D           |\n",
      "|female|group D  |some college               |standard    |none                   |80        |90           |89           |D           |\n",
      "|female|group E  |some high school           |free/reduced|none                   |74        |74           |72           |E           |\n",
      "|female|group A  |bachelor's degree          |standard    |none                   |59        |72           |70           |A           |\n",
      "|female|group B  |some high school           |standard    |none                   |57        |67           |72           |B           |\n",
      "|male  |group D  |some college               |free/reduced|none                   |62        |57           |62           |D           |\n",
      "|female|group C  |high school                |standard    |none                   |61        |72           |70           |C           |\n",
      "|male  |group C  |associate's degree         |standard    |none                   |62        |65           |58           |C           |\n",
      "|male  |group D  |bachelor's degree          |free/reduced|completed              |61        |70           |76           |D           |\n",
      "|male  |group D  |some college               |free/reduced|none                   |69        |66           |60           |D           |\n",
      "|male  |group D  |associate's degree         |standard    |none                   |80        |75           |77           |D           |\n",
      "|male  |group C  |high school                |free/reduced|completed              |40        |46           |50           |C           |\n",
      "|female|group C  |some college               |standard    |completed              |87        |89           |94           |C           |\n",
      "+------+---------+---------------------------+------------+-----------------------+----------+-------------+-------------+------------+\n",
      "only showing top 20 rows\n",
      "\n",
      "+---------+------------+\n",
      "|ethnicity|group_letter|\n",
      "+---------+------------+\n",
      "|  group D|           D|\n",
      "|  group B|           B|\n",
      "+---------+------------+\n",
      "only showing top 2 rows\n",
      "\n"
     ]
    }
   ],
   "source": [
    "#Split text in columns\n",
    "from pyspark.sql.functions import split, col, substring, regexp_replace\n",
    "\n",
    "df6 = df5.withColumn('group_letter', split(df5['ethnicity'], ' ').getItem(1))\n",
    "df6.show(truncate=False)\n",
    "df6.select('ethnicity','group_letter').show(2)\n",
    "\n",
    "#https://sparkbyexamples.com/pyspark/pyspark-split-dataframe-column-into-multiple-columns/"
   ]
  },
  {
   "cell_type": "code",
   "execution_count": 41,
   "id": "c74befb6",
   "metadata": {},
   "outputs": [
    {
     "name": "stdout",
     "output_type": "stream",
     "text": [
      "+------+---------+---------------------------+------------+-----------------------+----------+-------------+-------------+------------+\n",
      "|gender|ethnicity|parental_level_of_education|       lunch|test_preparation_course|math score|reading score|writing score|group_letter|\n",
      "+------+---------+---------------------------+------------+-----------------------+----------+-------------+-------------+------------+\n",
      "|female|  group B|           some high school|    standard|                   none|        62|           64|           66|           B|\n",
      "|female|  group D|                high school|    standard|              completed|        56|           68|           74|           D|\n",
      "|female|  group E|         associate's degree|    standard|                   none|        85|           92|           85|           E|\n",
      "|female|  group D|           some high school|free/reduced|                   none|        27|           34|           32|           D|\n",
      "|  male|  group D|           some high school|    standard|              completed|        62|           66|           68|           D|\n",
      "|female|  group E|               some college|    standard|                   none|        87|           85|           93|           E|\n",
      "|  male|  group A|            master's degree|free/reduced|                   none|        73|           74|           72|           A|\n",
      "|female|  group D|          bachelor's degree|free/reduced|                   none|        73|           79|           84|           D|\n",
      "|female|  group D|               some college|    standard|                   none|        80|           90|           89|           D|\n",
      "|female|  group E|           some high school|free/reduced|                   none|        74|           74|           72|           E|\n",
      "|female|  group A|          bachelor's degree|    standard|                   none|        59|           72|           70|           A|\n",
      "|female|  group B|           some high school|    standard|                   none|        57|           67|           72|           B|\n",
      "|  male|  group D|               some college|free/reduced|                   none|        62|           57|           62|           D|\n",
      "|female|  group C|                high school|    standard|                   none|        61|           72|           70|           C|\n",
      "|  male|  group C|         associate's degree|    standard|                   none|        62|           65|           58|           C|\n",
      "|  male|  group D|          bachelor's degree|free/reduced|              completed|        61|           70|           76|           D|\n",
      "|  male|  group D|               some college|free/reduced|                   none|        69|           66|           60|           D|\n",
      "|  male|  group D|         associate's degree|    standard|                   none|        80|           75|           77|           D|\n",
      "|  male|  group C|                high school|free/reduced|              completed|        40|           46|           50|           C|\n",
      "|female|  group C|               some college|    standard|              completed|        87|           89|           94|           C|\n",
      "+------+---------+---------------------------+------------+-----------------------+----------+-------------+-------------+------------+\n",
      "only showing top 20 rows\n",
      "\n"
     ]
    }
   ],
   "source": [
    "#Input missing data(This replaces empty fields in df with the value null)\n",
    "#this can be done in place of dropping values(not going to work down here, can place it ablove the code for dropping null values)\n",
    "\n",
    "df6.na.fill(value=0).show()\n",
    "\n",
    "#continue slide 76\n",
    "#https://sparkbyexamples.com/pyspark/pyspark-fillna-fill-replace-null-values/\n",
    "#https://spark.apache.org/docs/2.1.0/api/python/pyspark.sql.html#pyspark.sql.DataFrame.fillna"
   ]
  },
  {
   "cell_type": "code",
   "execution_count": 42,
   "id": "2f11f28b",
   "metadata": {},
   "outputs": [],
   "source": [
    "#Impute values(Fill in missing values)&(alternative to dropping anf filling missing values)\n",
    "\n",
    "#check slides for tutorial"
   ]
  },
  {
   "cell_type": "code",
   "execution_count": 43,
   "id": "e1cc7a4d",
   "metadata": {},
   "outputs": [
    {
     "data": {
      "text/plain": [
       "(array([  2.,   2.,  10.,  26.,  90., 177., 259., 208., 128.,  54.]),\n",
       " array([  0.,  10.,  20.,  30.,  40.,  50.,  60.,  70.,  80.,  90., 100.]),\n",
       " <BarContainer object of 10 artists>)"
      ]
     },
     "execution_count": 43,
     "metadata": {},
     "output_type": "execute_result"
    },
    {
     "data": {
      "image/png": "[encoded data removed]",
      "text/plain": [
       "<Figure size 648x648 with 1 Axes>"
      ]
     },
     "metadata": {
      "needs_background": "light"
     },
     "output_type": "display_data"
    }
   ],
   "source": [
    "#Graphs using matplotlib and pandas dataframe\n",
    "import numpy as np                       #only to check the median vlaue\n",
    "import matplotlib.pyplot as plt\n",
    "\n",
    "#Importing the PySpark Dataframe to Pandas Dataframe for making it usable with matplotlib\n",
    "#renaming 'math score' to 'mathScore' as it throws error entered with space in the ax.hist() code\n",
    "pandDF = df6.toPandas()\n",
    "pandasDF = pandDF.rename(columns={'math score': 'mathScore'})\n",
    "#pandasDF\n",
    "\n",
    "#plotting graph | Method 1(ax.hist())\n",
    "fig, ax = plt.subplots(figsize=(9,9))\n",
    "ax.hist(pandasDF.mathScore, bins=10, edgecolor='black')\n",
    "\n",
    "#method 2 (dataframe.hist())\n",
    "#pandasDF.hist('mathScore', bins=100, edgecolor='black')\n"
   ]
  },
  {
   "cell_type": "code",
   "execution_count": 44,
   "id": "921282ec",
   "metadata": {},
   "outputs": [
    {
     "data": {
      "text/plain": [
       "<AxesSubplot:xlabel='sepal_length', ylabel='sepal_width'>"
      ]
     },
     "execution_count": 44,
     "metadata": {},
     "output_type": "execute_result"
    },
    {
     "data": {
      "image/png": "[encoded data removed]",
      "text/plain": [
       "<Figure size 432x288 with 1 Axes>"
      ]
     },
     "metadata": {
      "needs_background": "light"
     },
     "output_type": "display_data"
    }
   ],
   "source": [
    "# Example Seaborn Graph!\n",
    "import seaborn as sns\n",
    "# load iris dataset using seaborn\n",
    "pdf = sns.load_dataset('iris')\n",
    "# use the function regplot to make a scatterplot\n",
    "sns.regplot(x=pdf[\"sepal_length\"],y=pdf[\"sepal_width\"])"
   ]
  },
  {
   "cell_type": "code",
   "execution_count": 45,
   "id": "daccd7d1",
   "metadata": {},
   "outputs": [
    {
     "ename": "SyntaxError",
     "evalue": "invalid syntax (Temp/ipykernel_1824/1169049057.py, line 1)",
     "output_type": "error",
     "traceback": [
      "\u001b[1;36m  File \u001b[1;32m\"C:\\Users\\myron\\AppData\\Local\\Temp/ipykernel_1824/1169049057.py\"\u001b[1;36m, line \u001b[1;32m1\u001b[0m\n\u001b[1;33m    In VS code to make code run like it is running in cells do this, pase code velow in vs code\u001b[0m\n\u001b[1;37m       ^\u001b[0m\n\u001b[1;31mSyntaxError\u001b[0m\u001b[1;31m:\u001b[0m invalid syntax\n"
     ]
    }
   ],
   "source": [
    "In VS code to make code run like it is running in cells do this, pase code velow in vs code\n",
    "# %%\n",
    "# Example Seaborn Graph!\n",
    "import seaborn as sns\n",
    "# load iris dataset using seaborn\n",
    "pdf = sns.load_dataset('iris')\n",
    "# use the function regplot to make a scatterplot\n",
    "sns.regplot(x=pdf[\"sepal_length\"],y=pdf[\"sepal_width\"])\n",
    "\n",
    "# %%\n",
    "# Example Seaborn Graph!\n",
    "import seaborn as sns\n",
    "# load iris dataset using seaborn\n",
    "pdf = sns.load_dataset('iris')\n",
    "# use the function regplot to make a scatterplot\n",
    "sns.regplot(x=pdf[\"sepal_length\"],y=pdf[\"sepal_width\"])"
   ]
  }
 ],
 "metadata": {
  "kernelspec": {
   "display_name": "Python 3 (ipykernel)",
   "language": "python",
   "name": "python3"
  },
  "language_info": {
   "codemirror_mode": {
    "name": "ipython",
    "version": 3
   },
   "file_extension": ".py",
   "mimetype": "text/x-python",
   "name": "python",
   "nbconvert_exporter": "python",
   "pygments_lexer": "ipython3",
   "version": "3.9.7"
  }
 },
 "nbformat": 4,
 "nbformat_minor": 5
}
